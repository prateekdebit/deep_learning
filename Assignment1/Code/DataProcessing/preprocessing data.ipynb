{
 "cells": [
  {
   "cell_type": "code",
   "execution_count": 42,
   "metadata": {
    "collapsed": false
   },
   "outputs": [
    {
     "name": "stdout",
     "output_type": "stream",
     "text": [
      "suceesfull ending\n"
     ]
    }
   ],
   "source": [
    "import os,sys\n",
    "from scipy import stats\n",
    "import numpy as np\n",
    "f = open('new_glove.txt', 'r')\n",
    "words = []#dictionanry\n",
    "vectors = []\n",
    "idx = -1\n",
    "count =0\n",
    "word_dict = {}\n",
    "word_dict_reverse = {}\n",
    "vector = []\n",
    "k = 0\n",
    "#print  (k)\n",
    "for l in f:\n",
    "    #print(k)\n",
    "    vector.clear()\n",
    "    line = l[:-1]\n",
    "    strings = line.split()\n",
    "    word = strings[0]\n",
    "    idx += 1\n",
    "    if len(strings)==301:\n",
    "        for i in range(1,301):\n",
    "            if strings[i]=='.':\n",
    "                strings[i] = '0.0'\n",
    "            try:\n",
    "                j = float(strings[i])\n",
    "            except ValueError:\n",
    "                print(ValueError)\n",
    "                break\n",
    "            vector.append(j)\n",
    "\n",
    "\n",
    "        if len(vector)==300:\n",
    "            word_dict[word] = idx\n",
    "            word_dict_reverse[idx] = word\n",
    "            \n",
    "            words.append(word)\n",
    "            vectors.append(vector)\n",
    "        else :\n",
    "            count = count + 1\n",
    "        k = k+1\n",
    "        if k%100000==0:\n",
    "            print(k)\n",
    "            print(idx)\n",
    "            print(count)\n",
    "        \n",
    "print('suceesfull ending')\n",
    "f.close()"
   ]
  },
  {
   "cell_type": "code",
   "execution_count": 10,
   "metadata": {
    "collapsed": false
   },
   "outputs": [
    {
     "name": "stdout",
     "output_type": "stream",
     "text": [
      "5764\n"
     ]
    }
   ],
   "source": [
    "print(len(vectors))"
   ]
  },
  {
   "cell_type": "code",
   "execution_count": 11,
   "metadata": {
    "collapsed": false
   },
   "outputs": [
    {
     "name": "stdout",
     "output_type": "stream",
     "text": [
      "5764\n"
     ]
    }
   ],
   "source": [
    "print(len(words))"
   ]
  },
  {
   "cell_type": "code",
   "execution_count": 7,
   "metadata": {
    "collapsed": false
   },
   "outputs": [
    {
     "name": "stdout",
     "output_type": "stream",
     "text": [
      "4296\n"
     ]
    }
   ],
   "source": [
    "print(word_dict['J.'])"
   ]
  },
  {
   "cell_type": "code",
   "execution_count": 7,
   "metadata": {
    "collapsed": false
   },
   "outputs": [
    {
     "name": "stdout",
     "output_type": "stream",
     "text": [
      "5764\n"
     ]
    }
   ],
   "source": [
    "print(len(word_dict_reverse))"
   ]
  },
  {
   "cell_type": "code",
   "execution_count": 1,
   "metadata": {
    "collapsed": false
   },
   "outputs": [
    {
     "ename": "NameError",
     "evalue": "name 'word_dict' is not defined",
     "output_type": "error",
     "traceback": [
      "\u001b[1;31m---------------------------------------------------------------------------\u001b[0m",
      "\u001b[1;31mNameError\u001b[0m                                 Traceback (most recent call last)",
      "\u001b[1;32m<ipython-input-1-ab186c40f073>\u001b[0m in \u001b[0;36m<module>\u001b[1;34m()\u001b[0m\n\u001b[1;32m----> 1\u001b[1;33m \u001b[0mprint\u001b[0m\u001b[1;33m(\u001b[0m\u001b[1;33m(\u001b[0m\u001b[0mword_dict\u001b[0m\u001b[1;33m[\u001b[0m\u001b[1;34m'J.'\u001b[0m\u001b[1;33m]\u001b[0m\u001b[1;33m)\u001b[0m\u001b[1;33m)\u001b[0m\u001b[1;33m\u001b[0m\u001b[0m\n\u001b[0m",
      "\u001b[1;31mNameError\u001b[0m: name 'word_dict' is not defined"
     ]
    }
   ],
   "source": [
    "print((word_dict['J.']))"
   ]
  },
  {
   "cell_type": "code",
   "execution_count": 3,
   "metadata": {
    "collapsed": false
   },
   "outputs": [
    {
     "name": "stdout",
     "output_type": "stream",
     "text": [
      "I\n"
     ]
    }
   ],
   "source": [
    "print(words[0])"
   ]
  },
  {
   "cell_type": "code",
   "execution_count": 22,
   "metadata": {
    "collapsed": false
   },
   "outputs": [
    {
     "name": "stdout",
     "output_type": "stream",
     "text": [
      "chewing\n"
     ]
    }
   ],
   "source": [
    "print((word_dict_reverse[5763]))"
   ]
  },
  {
   "cell_type": "code",
   "execution_count": 52,
   "metadata": {
    "collapsed": false
   },
   "outputs": [
    {
     "name": "stdout",
     "output_type": "stream",
     "text": [
      ", . the and to of a\n"
     ]
    }
   ],
   "source": [
    "print(words[0],words[1],words[2],words[3],words[4],words[5],words[6])"
   ]
  },
  {
   "cell_type": "code",
   "execution_count": 53,
   "metadata": {
    "collapsed": false
   },
   "outputs": [
    {
     "name": "stdout",
     "output_type": "stream",
     "text": [
      "183337\n"
     ]
    }
   ],
   "source": [
    "if 'furred' in word_dict:\n",
    "    print(word_dict['furred'])\n",
    "else :\n",
    "    print('not found')\n"
   ]
  },
  {
   "cell_type": "code",
   "execution_count": 5,
   "metadata": {
    "collapsed": false
   },
   "outputs": [
    {
     "ename": "KeyError",
     "evalue": "'I'",
     "output_type": "error",
     "traceback": [
      "\u001b[1;31m---------------------------------------------------------------------------\u001b[0m",
      "\u001b[1;31mKeyError\u001b[0m                                  Traceback (most recent call last)",
      "\u001b[1;32m<ipython-input-5-b362809dae95>\u001b[0m in \u001b[0;36m<module>\u001b[1;34m()\u001b[0m\n\u001b[1;32m----> 1\u001b[1;33m \u001b[0mprint\u001b[0m\u001b[1;33m(\u001b[0m\u001b[0mword_dict_reverse\u001b[0m\u001b[1;33m[\u001b[0m\u001b[1;34m'I'\u001b[0m\u001b[1;33m]\u001b[0m\u001b[1;33m)\u001b[0m\u001b[1;33m\u001b[0m\u001b[0m\n\u001b[0m",
      "\u001b[1;31mKeyError\u001b[0m: 'I'"
     ]
    }
   ],
   "source": [
    "print(word_dict_reverse['I'])"
   ]
  },
  {
   "cell_type": "code",
   "execution_count": null,
   "metadata": {
    "collapsed": true
   },
   "outputs": [],
   "source": []
  },
  {
   "cell_type": "code",
   "execution_count": 14,
   "metadata": {
    "collapsed": false
   },
   "outputs": [],
   "source": [
    "f1 = open('Holmes.machine_format.questions.txt','r')\n",
    "f2 = open('Holmes.machine_format.questions.number_format.txt', 'w')\n",
    "\n",
    "for line  in f1:\n",
    "    f2.write(str(line.split(\" \", 1)[1]))\n",
    "\n",
    "f2.close()\n",
    "f1.close()"
   ]
  },
  {
   "cell_type": "code",
   "execution_count": 63,
   "metadata": {
    "collapsed": false
   },
   "outputs": [
    {
     "name": "stdout",
     "output_type": "stream",
     "text": [
      "congrats but count = 0\n"
     ]
    }
   ],
   "source": [
    "f1 = open('Holmes.machine_format.questions.without_first_word.txt', 'r')\n",
    "f2 = open('Holmes.machine_format.questions.number_format_w.txt', 'w')\n",
    "count = 0\n",
    "for l  in f1:\n",
    "    line = l[:-1]\n",
    "    strings = line.split()\n",
    "    length = len(strings)\n",
    "    for i in range(0,length):\n",
    "        new_word = strings[i]\n",
    "        if new_word in word_dict :\n",
    "            f2.write(str(word_dict[new_word])+' ')\n",
    "        else :\n",
    "            count = count + 1\n",
    "    f2.write('\\n')\n",
    "f2.close()\n",
    "f1.close()\n",
    "print('congrats but count = ' + str(count))"
   ]
  },
  {
   "cell_type": "code",
   "execution_count": 57,
   "metadata": {
    "collapsed": false
   },
   "outputs": [
    {
     "name": "stdout",
     "output_type": "stream",
     "text": [
      "2196017\n"
     ]
    }
   ],
   "source": [
    "f = open('glove.840B.300d.txt', 'r')\n",
    "w = []\n",
    "for l in f :\n",
    "    line1 = l[:-1]\n",
    "    strings1 = line1.split()\n",
    "    temp = strings1[0]\n",
    "    w.append(temp)\n",
    "print(len(w))"
   ]
  },
  {
   "cell_type": "code",
   "execution_count": 58,
   "metadata": {
    "collapsed": false
   },
   "outputs": [
    {
     "name": "stdout",
     "output_type": "stream",
     "text": [
      "sucess\n"
     ]
    }
   ],
   "source": [
    "if 'furred' in w:\n",
    "    print('sucess')\n",
    "else :\n",
    "    print('not found')\n"
   ]
  },
  {
   "cell_type": "code",
   "execution_count": 62,
   "metadata": {
    "collapsed": false
   },
   "outputs": [
    {
     "name": "stdout",
     "output_type": "stream",
     "text": [
      "183337\n",
      "furred 0.56178 -1.5011 -0.30701 -0.0034706 -0.20526 -0.28275 0.24112 0.12176 -0.2096 -0.96399 0.45616 0.029793 -0.27873 -0.21987 0.31576 0.41321 0.010745 -0.92168 -0.20068 -0.054599 -0.11629 -0.42189 -0.19051 0.18972 -0.59457 -0.4796 0.036742 0.32453 -0.19382 -0.2205 0.091975 -0.19461 0.086628 0.15981 0.02673 -0.34711 -0.4023 0.068163 -0.5233 0.18762 0.64824 -0.55914 -0.42895 -0.61567 0.92932 0.22969 0.2153 -0.30928 0.98639 0.085178 -0.34437 -0.056358 -1.0006 0.13385 -0.20235 0.18919 -0.13853 0.3497 -0.22932 0.49262 -0.32138 0.10743 0.2261 0.10107 -0.087452 -0.16419 0.2788 -0.47666 0.20227 0.35099 0.62022 -0.05068 -0.34947 -0.15389 -0.28226 -0.41149 -0.34151 -0.13013 0.89233 -0.29986 -0.4934 0.21549 -0.43455 0.43927 0.44033 -0.57801 1.7389 0.36139 0.11493 -0.085036 0.23947 0.17376 0.15075 0.32164 -0.21337 0.31636 -0.16977 -0.28401 0.014206 -0.1219 0.45933 0.45545 0.62852 -0.03084 -0.49566 -1.8574 -0.16569 -0.30428 -0.14724 -0.018049 -0.0069039 -0.093527 0.80734 -0.15566 0.18937 0.29503 -0.10338 0.020094 0.11812 -0.33487 0.11695 -0.39087 0.50899 0.20666 0.034375 0.32669 -0.22113 -0.15237 -0.26929 -0.3497 0.29145 -0.15727 -0.14943 1.1281 0.23732 0.43202 -0.38737 -0.08383 0.6152 0.05344 -0.29066 -0.08531 -0.71853 0.65284 0.24415 -0.32235 0.26031 -0.25509 -0.16223 0.33723 -0.11736 0.36808 0.0377 -0.011251 -0.47418 -0.054752 -0.11798 -0.024505 0.137 -0.18302 0.19698 -0.16104 -0.35928 -0.15201 0.30166 -0.256 0.29746 -0.37307 0.054729 0.026307 0.13464 0.66411 -0.02984 0.35742 -0.12746 0.81964 0.27524 -0.18331 0.20971 0.50125 -0.026542 -0.32201 0.030549 0.30436 -0.21137 0.66511 -0.1107 -0.48996 0.01269 -0.047362 -0.25866 0.58303 -0.00051263 -0.39164 0.34237 0.54605 0.25269 -0.06038 0.55735 -0.22325 -0.16642 0.58779 -0.46116 0.084683 0.26033 -0.04815 0.46003 0.064662 -0.83341 -0.15673 -0.19897 0.066454 -0.068031 0.65149 0.13359 0.17674 -0.17893 -0.28597 0.36664 -0.31223 -0.014233 0.039056 -0.49843 -0.12111 -0.18238 -0.62638 0.24071 0.91905 -0.37695 0.55812 0.46999 0.073098 0.074194 -0.20581 0.38746 0.50424 -0.23128 -0.34553 0.17928 0.35652 0.24494 0.4189 -0.39098 0.39526 0.074852 0.28724 -0.44116 -0.23209 0.034908 0.41189 -0.097742 -0.29669 0.27732 0.55791 0.017386 -0.080693 0.14637 0.23271 -0.064826 -0.13591 -0.1811 -0.25285 0.62839 0.18581 0.2057 0.39019 -0.10709 -0.38723 -0.9891 0.043275 -0.39456 0.19792 -0.24814 -0.33179 -0.67997 0.69847 -0.039487 0.35127 -0.20359 -0.18958 -0.011096 0.079445 -0.44548 -0.12396 -0.093272 0.31605 -0.21246 -0.70562 -0.20613 -0.50269 -0.45542 -0.68266 -0.26947 -0.13022 -0.50547 0.43584 0.24233 -0.026137 -0.034807 -0.393\n",
      "\n"
     ]
    }
   ],
   "source": [
    "f = open('glove.840B.300d.txt', 'r')\n",
    "glv = f.readlines()\n",
    "\n",
    "print(word_dict['furred'])\n",
    "print(glv[word_dict['furred']])"
   ]
  },
  {
   "cell_type": "code",
   "execution_count": 101,
   "metadata": {
    "collapsed": false
   },
   "outputs": [
    {
     "name": "stdout",
     "output_type": "stream",
     "text": [
      "[211.73001430638021, 223.49590999285215, 230.57449107703462, 234.81107366592499, 205.47854040049822]\n"
     ]
    }
   ],
   "source": [
    "from numpy import linalg\n",
    "import numpy as np\n",
    "line = 'They seize him and use violence towards him in order to make him sign some papers to make over the girl  \\'s of which he may be trustee to them .'\n",
    "target = ['appreciation','activity','suspicions','administration','fortune']\n",
    "\n",
    "\n",
    "f = open('new_glove.txt', 'r')\n",
    "glv = f.readlines()\n",
    "\n",
    "\n",
    "string = line.split()\n",
    "#print(len(string))\n",
    "length = len(string)\n",
    "sum2 = []\n",
    "\n",
    "\n",
    "\n",
    "for j in range(0,5):\n",
    "    k1 = (glv[word_dict[target[j]]].split())\n",
    "    #k1 = (glv[word_dict['climb']].split())\n",
    "    #print(target[j])\n",
    "    sum1 = 0.0\n",
    "    for i in range(0,length) :\n",
    "        #print(string[0])\n",
    "        k2 = (glv[word_dict[string[i]]].split())\n",
    "        #k2 = (glv[word_dict['I']].split())\n",
    "        #print(k1)\n",
    "        #print(k2)\n",
    "        #string1 = k1.split()\n",
    "        #string2 = k2.split()\n",
    "        #print(len(string2))\n",
    "        for k in range(1,300):\n",
    "            #print(k)\n",
    "            float_k1.append(float(k1[k]))\n",
    "            float_k2.append(float(k2[k]))\n",
    "        \n",
    "        #print('yaha')\n",
    "        v1 = np.array(300)\n",
    "        v2 = np.array(300)\n",
    "        v1 = np.array(float_k1)\n",
    "        v2 = np.array(float_k2)\n",
    "        float_k1 = []\n",
    "        float_k2 = []\n",
    "        dis = (linalg.norm(v1-v2))\n",
    "        #dis = distance.euclidean(,b)\n",
    "        #print(dis)\n",
    "        sum1 = sum1 + dis\n",
    "        #print('waha')\n",
    "    sum2.append(sum1) \n",
    "print(sum2)"
   ]
  },
  {
   "cell_type": "code",
   "execution_count": 49,
   "metadata": {
    "collapsed": true
   },
   "outputs": [],
   "source": [
    "from numpy import linalg"
   ]
  },
  {
   "cell_type": "code",
   "execution_count": 43,
   "metadata": {
    "collapsed": false
   },
   "outputs": [
    {
     "name": "stdout",
     "output_type": "stream",
     "text": [
      "7171\n"
     ]
    }
   ],
   "source": [
    "import os,sys\n",
    "from scipy import stats\n",
    "import numpy\n",
    "f = open('new_glove_2.txt', 'w')\n",
    "c = 0\n",
    "idx = 5764\n",
    "f_ptb = open('ptb.train.txt','r')\n",
    "for l in f_ptb:\n",
    "    line = l[:-1]\n",
    "    strings = line.split()\n",
    "    for i in range(0,len(strings)):\n",
    "        word = strings[i]\n",
    "        if word in word_dict :\n",
    "            ;\n",
    "        else :\n",
    "            c = c + 1\n",
    "            word_dict[word] = idx\n",
    "            word_dict_reverse[idx] = word\n",
    "            A = numpy.random.uniform(low=-1.0, high=1.0, size=(300) )\n",
    "            #print(word)\n",
    "            f.write(str(word)+' ')\n",
    "            for j in range (0,300):\n",
    "                f.write(str(A[j])+' ')\n",
    "            idx = idx + 1\n",
    "            f.write('\\n')\n",
    "\n",
    "print(c)\n",
    "f.close()\n",
    "f_ptb.close()"
   ]
  },
  {
   "cell_type": "code",
   "execution_count": 41,
   "metadata": {
    "collapsed": true
   },
   "outputs": [],
   "source": [
    "word_dict = {}\n",
    "word_dict_reverse = {}"
   ]
  },
  {
   "cell_type": "code",
   "execution_count": 45,
   "metadata": {
    "collapsed": false
   },
   "outputs": [
    {
     "data": {
      "text/plain": [
       "'I'"
      ]
     },
     "execution_count": 45,
     "metadata": {},
     "output_type": "execute_result"
    }
   ],
   "source": [
    "word_dict_reverse[0]"
   ]
  },
  {
   "cell_type": "code",
   "execution_count": 46,
   "metadata": {
    "collapsed": false
   },
   "outputs": [
    {
     "data": {
      "text/plain": [
       "'chewing'"
      ]
     },
     "execution_count": 46,
     "metadata": {},
     "output_type": "execute_result"
    }
   ],
   "source": [
    "word_dict_reverse[5763]"
   ]
  },
  {
   "cell_type": "code",
   "execution_count": 47,
   "metadata": {
    "collapsed": false
   },
   "outputs": [
    {
     "data": {
      "text/plain": [
       "'booklets'"
      ]
     },
     "execution_count": 47,
     "metadata": {},
     "output_type": "execute_result"
    }
   ],
   "source": [
    "word_dict_reverse[5764]"
   ]
  },
  {
   "cell_type": "code",
   "execution_count": 49,
   "metadata": {
    "collapsed": false
   },
   "outputs": [
    {
     "data": {
      "text/plain": [
       "'unilab'"
      ]
     },
     "execution_count": 49,
     "metadata": {},
     "output_type": "execute_result"
    }
   ],
   "source": [
    "word_dict_reverse[7171+5763]"
   ]
  },
  {
   "cell_type": "code",
   "execution_count": 50,
   "metadata": {
    "collapsed": false
   },
   "outputs": [
    {
     "data": {
      "text/plain": [
       "12934"
      ]
     },
     "execution_count": 50,
     "metadata": {},
     "output_type": "execute_result"
    }
   ],
   "source": [
    "7171+5763"
   ]
  },
  {
   "cell_type": "code",
   "execution_count": null,
   "metadata": {
    "collapsed": true
   },
   "outputs": [],
   "source": []
  }
 ],
 "metadata": {
  "anaconda-cloud": {},
  "kernelspec": {
   "display_name": "Python [Root]",
   "language": "python",
   "name": "Python [Root]"
  },
  "language_info": {
   "codemirror_mode": {
    "name": "ipython",
    "version": 3
   },
   "file_extension": ".py",
   "mimetype": "text/x-python",
   "name": "python",
   "nbconvert_exporter": "python",
   "pygments_lexer": "ipython3",
   "version": "3.5.2"
  }
 },
 "nbformat": 4,
 "nbformat_minor": 0
}
