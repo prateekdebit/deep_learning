{
 "cells": [
  {
   "cell_type": "code",
   "execution_count": 1,
   "metadata": {
    "collapsed": false
   },
   "outputs": [
    {
     "ename": "KeyboardInterrupt",
     "evalue": "",
     "output_type": "error",
     "traceback": [
      "\u001b[1;31m---------------------------------------------------------------------------\u001b[0m",
      "\u001b[1;31mKeyboardInterrupt\u001b[0m                         Traceback (most recent call last)",
      "\u001b[1;32m<ipython-input-1-37ad2e937fdc>\u001b[0m in \u001b[0;36m<module>\u001b[1;34m()\u001b[0m\n\u001b[0;32m     26\u001b[0m         \u001b[0mstrings2\u001b[0m \u001b[1;33m=\u001b[0m \u001b[0mline2\u001b[0m\u001b[1;33m.\u001b[0m\u001b[0msplit\u001b[0m\u001b[1;33m(\u001b[0m\u001b[1;33m)\u001b[0m\u001b[1;33m\u001b[0m\u001b[0m\n\u001b[0;32m     27\u001b[0m         \u001b[0mlength\u001b[0m \u001b[1;33m=\u001b[0m \u001b[0mlen\u001b[0m\u001b[1;33m(\u001b[0m\u001b[0mstrings2\u001b[0m\u001b[1;33m)\u001b[0m\u001b[1;33m\u001b[0m\u001b[0m\n\u001b[1;32m---> 28\u001b[1;33m         \u001b[1;32mfor\u001b[0m \u001b[0mi\u001b[0m \u001b[1;32min\u001b[0m \u001b[0mrange\u001b[0m\u001b[1;33m(\u001b[0m\u001b[1;36m0\u001b[0m\u001b[1;33m,\u001b[0m\u001b[0mlength\u001b[0m\u001b[1;33m)\u001b[0m\u001b[1;33m:\u001b[0m\u001b[1;33m\u001b[0m\u001b[0m\n\u001b[0m\u001b[0;32m     29\u001b[0m             \u001b[1;32mif\u001b[0m \u001b[0mword1\u001b[0m\u001b[1;33m==\u001b[0m\u001b[0mstrings2\u001b[0m\u001b[1;33m[\u001b[0m\u001b[0mi\u001b[0m\u001b[1;33m]\u001b[0m\u001b[1;33m:\u001b[0m\u001b[1;33m\u001b[0m\u001b[0m\n\u001b[0;32m     30\u001b[0m \u001b[1;33m\u001b[0m\u001b[0m\n",
      "\u001b[1;31mKeyboardInterrupt\u001b[0m: "
     ]
    }
   ],
   "source": [
    "import os,sys\n",
    "from scipy import stats\n",
    "import numpy as np\n",
    "f1 = open('glove.840B.300d.txt', 'r')\n",
    "f2 = open('Holmes.machine_format.questions.without_first_word.txt', 'r+')\n",
    "f3 = open('new_glove.txt', 'w')\n",
    "count= 0\n",
    "strings1 = []\n",
    "k = 0\n",
    "dekho = 0\n",
    "for l1 in f1:\n",
    "    k = k+1\n",
    "    if k%50000==0:\n",
    "        print('process' + str(k))\n",
    "        \n",
    "    line1 = l1[:-1]\n",
    "    strings1 = line1.split()\n",
    "    word1 = strings1[0]\n",
    "    #print(word1)\n",
    "    flag = 0\n",
    "    flag2 = 0\n",
    "    #f2 = open('Holmes.machine_format.questions.without_first_word.txt', 'r')\n",
    "    for l2 in f2:\n",
    "        flag2 = 0\n",
    "        line2 = l2[:-1]\n",
    "        strings2 = line2.split()\n",
    "        length = len(strings2)\n",
    "        for i in range(0,length):\n",
    "            if word1==strings2[i]:\n",
    "                \n",
    "                #print(line2)\n",
    "                count = count + 1\n",
    "                f3.write(line1)\n",
    "                f3.write('\\n')\n",
    "                flag = 1\n",
    "                flag2 = 1\n",
    "                f2.seek(0)\n",
    "                break\n",
    "        if flag == 1:\n",
    "            flag = 0\n",
    "            break\n",
    "    if flag2 == 0 :\n",
    "        f2.seek(0)\n",
    "        #print('++++++++++++nahi mila+++++++++++++++')\n",
    "    #f2.close()\n",
    "    \n",
    "\n",
    "            \n",
    "f1.close()\n",
    "f2.close()\n",
    "f3.close()"
   ]
  },
  {
   "cell_type": "code",
   "execution_count": null,
   "metadata": {
    "collapsed": true
   },
   "outputs": [],
   "source": []
  }
 ],
 "metadata": {
  "anaconda-cloud": {},
  "kernelspec": {
   "display_name": "Python [Root]",
   "language": "python",
   "name": "Python [Root]"
  },
  "language_info": {
   "codemirror_mode": {
    "name": "ipython",
    "version": 3
   },
   "file_extension": ".py",
   "mimetype": "text/x-python",
   "name": "python",
   "nbconvert_exporter": "python",
   "pygments_lexer": "ipython3",
   "version": "3.5.2"
  }
 },
 "nbformat": 4,
 "nbformat_minor": 0
}
